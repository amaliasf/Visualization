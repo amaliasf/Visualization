{
  "nbformat": 4,
  "nbformat_minor": 0,
  "metadata": {
    "colab": {
      "name": "MultipleSubplots-NestedAxis.ipynb",
      "provenance": []
    },
    "kernelspec": {
      "name": "python3",
      "display_name": "Python 3"
    }
  },
  "cells": [
    {
      "cell_type": "code",
      "metadata": {
        "id": "KNC54CLB_nfQ"
      },
      "source": [
        "#import library\r\n",
        "import matplotlib.pyplot as plt\r\n",
        "import numpy as np\r\n",
        "\r\n",
        "#1. MULTIPLE SUBPLOTS\r\n",
        "\r\n",
        "#generate data\r\n",
        "x = np.linspace(2*-np.pi, 2*np.pi, 200)\r\n",
        "tan = np.tan(x)/10\r\n",
        "cos = np.cos(x)\r\n",
        "sin = np.sin(x)\r\n",
        "\r\n",
        "#visualization with multiple subplots\r\n",
        "fig, ax = plt.subplots(figsize=(16,8), nrows=1, ncols=3, sharey=True)\r\n",
        "ax[0].plot(x, tan, color='b', label='tanX')\r\n",
        "ax[1].plot(x, sin, color='r', label='sinX')\r\n",
        "ax[2].plot(x, cos, color='g', label='cosX')\r\n",
        "ax[0].set_title('Grafik tanx')\r\n",
        "ax[1].set_title('Grafik sinx')\r\n",
        "ax[2].set_title('Grafik cosx')\r\n",
        "fig.legend(loc='upper center')\r\n",
        "plt.show()\r\n",
        "\r\n",
        "#2. NESTED AXIS\r\n",
        "\r\n",
        "#generate data\r\n",
        "x = np.linspace(2*-np.pi, 2*np.pi, 100)\r\n",
        "y = np.cos(x)\r\n",
        "y2 = np.cos(x**2)\r\n",
        "y3 = np.cos(x**3)\r\n",
        "y4 = np.cos(x**4)\r\n",
        "y5 = np.cos(x**5)\r\n",
        "\r\n",
        "#nested axis\r\n",
        "fig, ax = plt.subplots(figsize=(12,8))\r\n",
        "ax.plot(x, y, color='b')\r\n",
        "ax.set_title('Grafik CosX')\r\n",
        "\r\n",
        "ins1 = ax.inset_axes([-0.15, -0.2, 0.4, 0.4])\r\n",
        "ins1.plot(x, y, color='b')\r\n",
        "ins1.plot(x, y2, color='r')\r\n",
        "ins1.set_title('Grafik CosX^2')\r\n",
        "\r\n",
        "ins2 = ax.inset_axes([0.9,-0.2, 0.4, 0.4])\r\n",
        "ins2.plot(x, y, color='b')\r\n",
        "ins2.plot(x, y3, color='g')\r\n",
        "ins2.set_title('Grafik CosX^3')\r\n",
        "\r\n",
        "ins3 = ax.inset_axes([0.9,0.9, 0.4, 0.4])\r\n",
        "ins3.plot(x, y, color='b')\r\n",
        "ins3.plot(x, y4, color='black')\r\n",
        "ins3.set_title('Grafik CosX^4')\r\n",
        "\r\n",
        "ins4 = ax.inset_axes([-0.15, 0.9, 0.4, 0.4])\r\n",
        "ins4.plot(x, y, color='b')\r\n",
        "ins4.plot(x, y5, color='y')\r\n",
        "ins4.set_title('Grafik CosX^5')\r\n",
        "plt.show()"
      ],
      "execution_count": null,
      "outputs": []
    }
  ]
}