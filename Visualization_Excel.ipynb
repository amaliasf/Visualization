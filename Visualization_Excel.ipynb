{
  "nbformat": 4,
  "nbformat_minor": 0,
  "metadata": {
    "colab": {
      "name": "Visualization_Excel.ipynb",
      "provenance": []
    },
    "kernelspec": {
      "name": "python3",
      "display_name": "Python 3"
    }
  },
  "cells": [
    {
      "cell_type": "code",
      "metadata": {
        "id": "s_9bx5_s5ala"
      },
      "source": [
        "#import library\n",
        "from openpyxl import Workbook\n",
        "from openpyxl.chart import BarChart, Series, Reference\n",
        "import csv"
      ],
      "execution_count": null,
      "outputs": []
    },
    {
      "cell_type": "code",
      "metadata": {
        "id": "dKN7CkRJ5sTf"
      },
      "source": [
        "#inisiasi workbook\n",
        "wb = Workbook(write_only=True)\n",
        "ws = wb.create_sheet()\n",
        "#membaca .csv file\n",
        "data = open(\"namafile.csv\")\n",
        "rows = csv.reader(data, delimiter=',')"
      ],
      "execution_count": null,
      "outputs": []
    },
    {
      "cell_type": "code",
      "metadata": {
        "id": "X1Ufsu26Cj1h",
        "colab": {
          "base_uri": "https://localhost:8080/",
          "height": 612
        },
        "outputId": "fbdbf9ae-63dd-4f8b-fab4-54a54e0f0545"
      },
      "source": [
        "#membaca perbaris file csv dan memasukkannya ke dalam file excel\n",
        "index = 0\n",
        "for row in rows: #memastikan semua data dalam format integer\n",
        "    print(rows)\n",
        "    #ws.append(row)\n",
        "    #index +=1 #menghitung jumlah row maksimum\n",
        "#len_row = len(row) #menhitung banyak data"
      ],
      "execution_count": null,
      "outputs": [
        {
          "output_type": "stream",
          "text": [
            "<_csv.reader object at 0x7f7df9399668>\n",
            "<_csv.reader object at 0x7f7df9399668>\n",
            "<_csv.reader object at 0x7f7df9399668>\n",
            "<_csv.reader object at 0x7f7df9399668>\n",
            "<_csv.reader object at 0x7f7df9399668>\n",
            "<_csv.reader object at 0x7f7df9399668>\n",
            "<_csv.reader object at 0x7f7df9399668>\n",
            "<_csv.reader object at 0x7f7df9399668>\n",
            "<_csv.reader object at 0x7f7df9399668>\n",
            "<_csv.reader object at 0x7f7df9399668>\n",
            "<_csv.reader object at 0x7f7df9399668>\n",
            "<_csv.reader object at 0x7f7df9399668>\n",
            "<_csv.reader object at 0x7f7df9399668>\n",
            "<_csv.reader object at 0x7f7df9399668>\n",
            "<_csv.reader object at 0x7f7df9399668>\n",
            "<_csv.reader object at 0x7f7df9399668>\n",
            "<_csv.reader object at 0x7f7df9399668>\n",
            "<_csv.reader object at 0x7f7df9399668>\n",
            "<_csv.reader object at 0x7f7df9399668>\n",
            "<_csv.reader object at 0x7f7df9399668>\n",
            "<_csv.reader object at 0x7f7df9399668>\n",
            "<_csv.reader object at 0x7f7df9399668>\n",
            "<_csv.reader object at 0x7f7df9399668>\n",
            "<_csv.reader object at 0x7f7df9399668>\n",
            "<_csv.reader object at 0x7f7df9399668>\n",
            "<_csv.reader object at 0x7f7df9399668>\n",
            "<_csv.reader object at 0x7f7df9399668>\n",
            "<_csv.reader object at 0x7f7df9399668>\n",
            "<_csv.reader object at 0x7f7df9399668>\n",
            "<_csv.reader object at 0x7f7df9399668>\n",
            "<_csv.reader object at 0x7f7df9399668>\n",
            "<_csv.reader object at 0x7f7df9399668>\n",
            "<_csv.reader object at 0x7f7df9399668>\n",
            "<_csv.reader object at 0x7f7df9399668>\n",
            "<_csv.reader object at 0x7f7df9399668>\n"
          ],
          "name": "stdout"
        }
      ]
    },
    {
      "cell_type": "code",
      "metadata": {
        "id": "nwDF4LqxBxo1"
      },
      "source": [
        "chart1 = BarChart() #menentukan model chart\n",
        "chart1.type = \"col\" #menentukan tipe chart horizontal/vertikal\n",
        "chart1.style = 3 #mengubah style atau warna\n",
        "chart1.title = \"Bar Chart\"\n",
        "chart1.y_axis.title = 'Axis Y'\n",
        "chart1.x_axis.title = 'Axis X'"
      ],
      "execution_count": null,
      "outputs": []
    },
    {
      "cell_type": "code",
      "metadata": {
        "id": "H2zerogdBz7Z"
      },
      "source": [
        "data = Reference(ws, min_col=3, min_row=1, max_row=index, max_col=len_row-1) \n",
        "cats = Reference(ws, min_col=2, min_row=2, max_row=index) \n",
        "chart1.height = 10 # default is 7.5\n",
        "chart1.width = 30 # default is 15\n",
        "chart1.add_data(data, titles_from_data=True) #memasukkan data dan menampilkan legenda dari judul kolom\n",
        "chart1.set_categories(cats) #memberi nilai axis x\n",
        "ws.add_chart(chart1, \"G2\") "
      ],
      "execution_count": null,
      "outputs": []
    },
    {
      "cell_type": "code",
      "metadata": {
        "id": "I0iOdBwRB3Y8"
      },
      "source": [
        "wb.save(\"bar.xlsx\")"
      ],
      "execution_count": null,
      "outputs": []
    }
  ]
}